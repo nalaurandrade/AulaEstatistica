{
  "nbformat": 4,
  "nbformat_minor": 0,
  "metadata": {
    "colab": {
      "provenance": [],
      "authorship_tag": "ABX9TyN64B1d53+mCNN/jA8kp7fz",
      "include_colab_link": true
    },
    "kernelspec": {
      "name": "python3",
      "display_name": "Python 3"
    },
    "language_info": {
      "name": "python"
    }
  },
  "cells": [
    {
      "cell_type": "markdown",
      "metadata": {
        "id": "view-in-github",
        "colab_type": "text"
      },
      "source": [
        "<a href=\"https://colab.research.google.com/github/nalaurandrade/AulaEstatistica/blob/main/AtividadeLista.ipynb\" target=\"_parent\"><img src=\"https://colab.research.google.com/assets/colab-badge.svg\" alt=\"Open In Colab\"/></a>"
      ]
    },
    {
      "cell_type": "code",
      "source": [
        "alunos=['Enzo','Gustavo','Ana','Jo','João','Tiago']\n",
        "for aluno in alunos:\n",
        "    print(aluno)"
      ],
      "metadata": {
        "colab": {
          "base_uri": "https://localhost:8080/"
        },
        "id": "5abRa9qw8kyW",
        "outputId": "caf2c7ef-e1db-46a8-8d6e-6efaa6257314"
      },
      "execution_count": 10,
      "outputs": [
        {
          "output_type": "stream",
          "name": "stdout",
          "text": [
            "Enzo\n",
            "Gustavo\n",
            "Ana\n",
            "Jo\n",
            "João\n",
            "Tiago\n"
          ]
        }
      ]
    }
  ]
}