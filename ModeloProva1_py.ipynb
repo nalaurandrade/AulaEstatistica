{
  "nbformat": 4,
  "nbformat_minor": 0,
  "metadata": {
    "colab": {
      "provenance": [],
      "authorship_tag": "ABX9TyNMgUazxukYZB/3xoIo/mkj",
      "include_colab_link": true
    },
    "kernelspec": {
      "name": "python3",
      "display_name": "Python 3"
    },
    "language_info": {
      "name": "python"
    }
  },
  "cells": [
    {
      "cell_type": "markdown",
      "metadata": {
        "id": "view-in-github",
        "colab_type": "text"
      },
      "source": [
        "<a href=\"https://colab.research.google.com/github/nalaurandrade/AulaEstatistica/blob/main/ModeloProva1_py.ipynb\" target=\"_parent\"><img src=\"https://colab.research.google.com/assets/colab-badge.svg\" alt=\"Open In Colab\"/></a>"
      ]
    },
    {
      "cell_type": "markdown",
      "source": [
        "Pergunta 1: Qual será a saída do comando print(dados) (linha 11) após a execução do código a seguir?\n"
      ],
      "metadata": {
        "id": "dwFak4fqoZWI"
      }
    },
    {
      "cell_type": "code",
      "execution_count": 2,
      "metadata": {
        "colab": {
          "base_uri": "https://localhost:8080/"
        },
        "id": "XvR3n5IonQSG",
        "outputId": "a91ad89a-6c4c-4e85-ee6f-5582a24375c7"
      },
      "outputs": [
        {
          "output_type": "stream",
          "name": "stdout",
          "text": [
            "['22', 'maior', '15']\n"
          ]
        }
      ],
      "source": [
        "numeros = [15, 8, 22, 4, 19, 10]\n",
        "dados = []\n",
        "for n in numeros:\n",
        "    if n > 10:\n",
        "        dados.append(str(n))\n",
        "\n",
        "dados.sort(reverse=True)\n",
        "dados.insert(1, 'maior')\n",
        "\n",
        "if len(dados) > 3:\n",
        "    dados.pop(2)\n",
        "\n",
        "print(dados)"
      ]
    },
    {
      "cell_type": "code",
      "source": [],
      "metadata": {
        "id": "-dgDFdwtqXhg"
      },
      "execution_count": null,
      "outputs": []
    },
    {
      "cell_type": "markdown",
      "source": [
        "Após filtrar os números maiores que 10 e convertê-los para string (str(n)), a lista dados torna-se [ '15', '22', '19']. Depois de ordenar de forma reversa, fica [ '22', '19', '15']. Inserindo 'maior' na posição 1, temos ['22', 'maior', '19', '15']. Finalmente, a condição len(dados) > 3 é verdadeira,\n",
        "e dados.pop(2) remove o elemento '19'. Assim print(dados) = [ '22', 'maior', '15']."
      ],
      "metadata": {
        "id": "SoZwWbR9oHeH"
      }
    },
    {
      "cell_type": "markdown",
      "source": [
        "\n",
        "Pergunta 2: Qual das seguintes opções apresenta o código Python correto para gerar uma lista\n",
        "com todos os números ímpares entre 1 e 20 (inclusivo) que não são divisíveis por 3, e sua respectiva saída (ou seja print(lista))?\n",
        "a) lista = [x if x % 3 != 0 for x in range(1, 21, 2)].\n",
        "A sintaxe desta \"list comprehension\" está incorreta. A condição if deve vir após o for para filtrar os elementos.\n",
        "\n",
        "b) lista = [x for x in range(1, 21) if x % 2 != 0 and x % 3 != 0]\n",
        "A sintaxe está correta porque respeita a estrutura de uma list comprehension em Python, que é [ expressão for item in iterável if condição ], na qual a variável x é a expressão de saída; for x in range(1, 21) é a cláusula de iteração que percorre os números de 1 a 20; e if x % 2 != 0 and x % 3 != 0 é a cláusula condicional que filtra os itens da iteração.\n",
        "Assim, print(lista) é [ '1', '5', '7', '11', '13', '17', '19']\n",
        "\n",
        "c) lista = [x for x in range(1, 20, 2) if x % 3 == 0]\n",
        "O erro está na lógica da condição. O código filtra e inclui na lista final apenas os números ímpares que são múltiplos de 3, resultando na lista [3, 9, 15]. O correto seria utilizar o operador de diferença != (if x % 3 != 0) para incluir apenas os números cujo resto da divisão por 3 seja diferente de zero.\n",
        "\n",
        "d) lista = [x for x in range(1, 21) if x % 2 != 0 or x % 3 != 0]\n",
        "A lista não cumpre com o pedido dado que utiliza o operador lógico or em vez de and.\n",
        "\n",
        "Escreva aqui a resposta: A opção b) é a resposta correta e print(dados) é [ '1', '5',\n",
        "'7', '11', '13', '17', '19'].\n"
      ],
      "metadata": {
        "id": "eRtU-I1XpSV1"
      }
    },
    {
      "cell_type": "code",
      "source": [],
      "metadata": {
        "id": "TGdEajNNq8qB"
      },
      "execution_count": null,
      "outputs": []
    },
    {
      "cell_type": "markdown",
      "source": [
        "Pergunta 3: Qual é a saída do código a seguir?"
      ],
      "metadata": {
        "id": "780a5eTGrTmY"
      }
    },
    {
      "cell_type": "code",
      "source": [
        "lista_a = list(range(1, 6))\n",
        "lista_b = lista_a[:]\n",
        "lista_b.remove(3)\n",
        "lista_b.append(7)\n",
        "\n",
        "if 3 not in lista_b and len(lista_a) == 5:\n",
        "    print(f'A: { lista_a }, B: {lista_b }')\n",
        "else:\n",
        "    print('As listas são idênticas.')"
      ],
      "metadata": {
        "colab": {
          "base_uri": "https://localhost:8080/"
        },
        "id": "3ML8gcQdrWHT",
        "outputId": "99fa4292-60e7-447c-d59d-7793a415ae5a"
      },
      "execution_count": 4,
      "outputs": [
        {
          "output_type": "stream",
          "name": "stdout",
          "text": [
            "A: [1, 2, 3, 4, 5], B: [1, 2, 4, 5, 7]\n"
          ]
        }
      ]
    },
    {
      "cell_type": "markdown",
      "source": [
        "Escreva aqui a resposta: A: [ '1', '2', '3', '4', '5'] e B: [ '1', '2', '4', '5',\n",
        "'7'].\n"
      ],
      "metadata": {
        "id": "1tBz0OgZryU0"
      }
    },
    {
      "cell_type": "code",
      "source": [],
      "metadata": {
        "id": "BIotbk_Nrz3T"
      },
      "execution_count": null,
      "outputs": []
    },
    {
      "cell_type": "markdown",
      "source": [
        "Esta saída mostra corretamente que lista_a permanece inalterada, enquanto lista_b (uma cópia de lista_a) foi modificada pela remoção do 3 e adição do 7, e a condição do if é satisfeita.\n",
        "2\n",
        "Pergunta 4: Qual será a saída do comando print(saudacao) após a execução do código a seguir?\n"
      ],
      "metadata": {
        "id": "RdqPZQwMr26a"
      }
    },
    {
      "cell_type": "code",
      "source": [
        "participantes = [ 'Ana', 'Carlos', 'Beatriz', 'Fernanda', 'Gustavo']\n",
        "vips = [ 'ana', 'gustavo']\n",
        "saudacoes = []\n",
        "\n",
        "for participante in participantes:\n",
        "    if participante.lower() in vips:\n",
        "        saudacoes.append(f\"Bemvindo(a), VIP participante!\")\n",
        "    else:\n",
        "        saudacoes.append(f\"Olá, participante.\")\n",
        "\n",
        "for saudacao in saudacoes:\n",
        "    print(saudacao)"
      ],
      "metadata": {
        "colab": {
          "base_uri": "https://localhost:8080/"
        },
        "id": "OT88aub7r6xS",
        "outputId": "23c1b5c7-01c0-4443-c4ff-417704bd2d99"
      },
      "execution_count": 6,
      "outputs": [
        {
          "output_type": "stream",
          "name": "stdout",
          "text": [
            "Bemvindo(a), VIP participante!\n",
            "Olá, participante.\n",
            "Olá, participante.\n",
            "Olá, participante.\n",
            "Bemvindo(a), VIP participante!\n"
          ]
        }
      ]
    },
    {
      "cell_type": "markdown",
      "source": [
        "Escreva aqui a resposta:\n",
        "Bem-vindo(a), VIP Ana!\n",
        "Olá, Carlos.\n",
        "Olá, Beatriz.\n",
        "Olá, Fernanda.\n",
        "Bem-vindo(a), VIP Gustavo!\n",
        "O código percorre a lista participantes, e para cada nome, verifica-se sua versão em minúsculas\n",
        "se existe na lista vips. Se o nome for encontrado (como 'Ana' e 'Gustavo'), uma saudação\n",
        "especial de VIP é adicionada a uma nova lista chamada saudacoes; caso contrário, uma saudação\n",
        "padrão Olá é adicionada. Ao final desse processo, um segundo laço é executado para percorrer\n",
        "a lista saudacoes já preenchida, e o comando print(saudacao) exibe cada uma das saudações\n",
        "armazenadas, uma por linha, na ordem em que foram geradas.\n"
      ],
      "metadata": {
        "id": "_Y8J0MbDsapU"
      }
    }
  ]
}