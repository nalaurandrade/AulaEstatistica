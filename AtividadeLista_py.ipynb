{
  "nbformat": 4,
  "nbformat_minor": 0,
  "metadata": {
    "colab": {
      "provenance": [],
      "authorship_tag": "ABX9TyPBoQ3kkHIdulbE7L897+hg",
      "include_colab_link": true
    },
    "kernelspec": {
      "name": "python3",
      "display_name": "Python 3"
    },
    "language_info": {
      "name": "python"
    }
  },
  "cells": [
    {
      "cell_type": "markdown",
      "metadata": {
        "id": "view-in-github",
        "colab_type": "text"
      },
      "source": [
        "<a href=\"https://colab.research.google.com/github/nalaurandrade/AulaEstatistica/blob/main/AtividadeLista_py.ipynb\" target=\"_parent\"><img src=\"https://colab.research.google.com/assets/colab-badge.svg\" alt=\"Open In Colab\"/></a>"
      ]
    },
    {
      "cell_type": "code",
      "source": [
        "alunos=['Enzo','Gustavo','Ana','Jo','João','Tiago']\n",
        "for aluno in alunos:\n",
        "    print(aluno)"
      ],
      "metadata": {
        "colab": {
          "base_uri": "https://localhost:8080/"
        },
        "id": "5abRa9qw8kyW",
        "outputId": "caf2c7ef-e1db-46a8-8d6e-6efaa6257314"
      },
      "execution_count": 10,
      "outputs": [
        {
          "output_type": "stream",
          "name": "stdout",
          "text": [
            "Enzo\n",
            "Gustavo\n",
            "Ana\n",
            "Jo\n",
            "João\n",
            "Tiago\n"
          ]
        }
      ]
    },
    {
      "cell_type": "code",
      "source": [
        "nomes = ['Enzo','Gustavo','Ana','Jo','João','Tiago']\n",
        "for nome in nomes:\n",
        "  print(nome)"
      ],
      "metadata": {
        "colab": {
          "base_uri": "https://localhost:8080/"
        },
        "id": "BpAjyNLbBG88",
        "outputId": "e705ff5e-a553-4c77-c72f-cf3bf5bf8284"
      },
      "execution_count": 13,
      "outputs": [
        {
          "output_type": "stream",
          "name": "stdout",
          "text": [
            "Enzo\n",
            "Gustavo\n",
            "Ana\n",
            "Jo\n",
            "João\n",
            "Tiago\n"
          ]
        }
      ]
    }
  ]
}